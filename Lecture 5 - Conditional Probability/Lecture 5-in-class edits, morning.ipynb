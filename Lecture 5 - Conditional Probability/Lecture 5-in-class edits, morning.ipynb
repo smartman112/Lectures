{
 "cells": [
  {
   "cell_type": "markdown",
   "metadata": {},
   "source": [
    "# Lecture 5 - Introduction to Conditional Probability"
   ]
  },
  {
   "cell_type": "code",
   "execution_count": 1,
   "metadata": {},
   "outputs": [],
   "source": [
    "import matplotlib.pyplot as plt\n",
    "%matplotlib inline\n",
    "plt.style.use('seaborn-colorblind')\n",
    "\n",
    "import random\n",
    "import numpy as np\n",
    "import numpy.random as npr"
   ]
  },
  {
   "cell_type": "markdown",
   "metadata": {},
   "source": [
    "Last class we:\n",
    "\n",
    "1. Worked through some analytical and simulation exercises to describe the sample space, events and probability of outcomes from discrete sequential models. \n",
    "    * When characterizing an experiment, the best practice is to:\n",
    "        * Define the sample space\n",
    "        * Define the event class\n",
    "        * Define probabilities of outcomes"
   ]
  },
  {
   "cell_type": "markdown",
   "metadata": {},
   "source": [
    "2. Learned how to represent discrete sequential models in tree-based representations.\n",
    "    * This representation can be useful in determining probabilities of outcomes"
   ]
  },
  {
   "cell_type": "markdown",
   "metadata": {},
   "source": [
    "## Introduction to Conditional Probability"
   ]
  },
  {
   "cell_type": "markdown",
   "metadata": {},
   "source": [
    "Consider the following scenarios:\n",
    "\n",
    "**<font color=blue>Example 1:</font> A magician has in her pocket a fair coin and a two-headed coin. She chooses one at random and flips it. What is the probability that the result is heads?**"
   ]
  },
  {
   "cell_type": "markdown",
   "metadata": {},
   "source": [
    "* Is this experiment fair? No, because the probability of each outcome (H, T) are not equal. P(H)=3/4 and P(T)=1/4"
   ]
  },
  {
   "cell_type": "markdown",
   "metadata": {},
   "source": [
    "Let's compute this probability on the virtual whiteboard."
   ]
  },
  {
   "cell_type": "markdown",
   "metadata": {},
   "source": [
    "Let's build a simulation to answer this:"
   ]
  },
  {
   "cell_type": "code",
   "execution_count": 5,
   "metadata": {},
   "outputs": [],
   "source": [
    "def one_flip(num_sims = 100000):\n",
    "    coins = ['fair','2head']\n",
    "    head_count = 0\n",
    "    for sim in range(num_sims):\n",
    "        coin = random.choice(coins)\n",
    "        if coin == 'fair':\n",
    "            S = ['H', 'T']\n",
    "        else:\n",
    "            S = ['H', 'H']\n",
    "        value = random.choice(S)\n",
    "        if value == 'H':\n",
    "            head_count+=1\n",
    "    print('Probabibility of heads is ',head_count/num_sims)"
   ]
  },
  {
   "cell_type": "code",
   "execution_count": 6,
   "metadata": {},
   "outputs": [
    {
     "name": "stdout",
     "output_type": "stream",
     "text": [
      "Probabibility of heads is  0.751\n"
     ]
    }
   ],
   "source": [
    "one_flip()"
   ]
  },
  {
   "cell_type": "markdown",
   "metadata": {},
   "source": [
    "**<font color=blue>Example 2:</font> Suppose that she chooses a coin at random. Using that coin, she flips it once and observes heads. What is the probability of observing heads in the second flip (using the same coin) if we observed heads in the first flip?**"
   ]
  },
  {
   "cell_type": "markdown",
   "metadata": {},
   "source": [
    "* How can we visualize and compute the analytical probability of this event?"
   ]
  },
  {
   "cell_type": "markdown",
   "metadata": {},
   "source": [
    "Let's compute this probability on the virtual whiteboard."
   ]
  },
  {
   "cell_type": "markdown",
   "metadata": {},
   "source": [
    "Let's build a simulation to answer this:"
   ]
  },
  {
   "cell_type": "code",
   "execution_count": 9,
   "metadata": {},
   "outputs": [],
   "source": [
    "def double_flip(num_sims=100000):\n",
    "    coins = ['fair', '2head']\n",
    "    heads1_count = 0\n",
    "    heads2_count = 0\n",
    "    \n",
    "    for sim in range(num_sims):\n",
    "        coin = random.choice(coins)\n",
    "        if coin == 'fair':\n",
    "            S = ['H', 'T']\n",
    "        else:\n",
    "            S = ['H', 'H']\n",
    "        values = random.choices(S, k=2)\n",
    "        if values[0] == 'H':\n",
    "            heads1_count +=1\n",
    "            if values[1]=='H':\n",
    "                heads2_count +=1\n",
    "                \n",
    "    print('Probability of observing heads in the 2nd ',\n",
    "          'flip if heads in the 1st flip is ',heads2_count/heads1_count)"
   ]
  },
  {
   "cell_type": "code",
   "execution_count": 10,
   "metadata": {},
   "outputs": [
    {
     "name": "stdout",
     "output_type": "stream",
     "text": [
      "Probability of observing heads in the 2nd  flip if heads in the 1st flip is  0.8324728928054785\n"
     ]
    }
   ],
   "source": [
    "double_flip()"
   ]
  },
  {
   "cell_type": "markdown",
   "metadata": {},
   "source": [
    "This probability is called **conditional probability** as it provides us a way to reason about the outcome of an experiment, based on **partial information**."
   ]
  },
  {
   "cell_type": "markdown",
   "metadata": {},
   "source": [
    "For scenario 2, consider the event $H_i=$heads on flip i. We are asking what is the **probability of $H_2$ given $H_1$ occurred**, that is,\n",
    "\n",
    "$$P(H_2 | H_1) = \\frac{5}{6}$$"
   ]
  },
  {
   "cell_type": "markdown",
   "metadata": {},
   "source": [
    "Consider the Venn diagram:\n",
    "<div><img src=\"figures/condProb1.png\", width=\"300\"><!div>"
   ]
  },
  {
   "cell_type": "markdown",
   "metadata": {},
   "source": [
    "If we **condition** on $B$ having occurred, then we can form the new Venn diagram:\n",
    "<div><img src=\"figures/condProb2.png\", width=\"300\"><!div>"
   ]
  },
  {
   "cell_type": "markdown",
   "metadata": {},
   "source": [
    "This diagram suggests that if $A\\cap B=\\emptyset$ then if $B$ occurs, $A$ could not have occurred."
   ]
  },
  {
   "cell_type": "markdown",
   "metadata": {},
   "source": [
    "Similarly if $B\\subset A$, then if $B$ occurs, the diagram suggests that $A$ must have occurred."
   ]
  },
  {
   "cell_type": "markdown",
   "metadata": {},
   "source": [
    "A definition of conditional probability that agrees with these and other observations is:\n",
    "\n",
    "<div class=\"alert alert-info\" role=\"alert\">\n",
    "  <strong>Conditional Probability</strong>\n",
    "    \n",
    "For $A\\in\\mathcal{F}$, $B\\in\\mathcal{F}$, the **conditional probability** of event $A$ *given* event $B$ occurred is\n",
    "    \n",
    "$$P(A|B) = \\frac{P(A\\cap B)}{P(B)},\\text{ for }P(B)>0$$ \n",
    "</div>\n",
    "\n",
    "**Claim: If $P(B)>0$, the conditional probability $P(\\bullet|B)$ satisfies the axioms on the original sample space $(\\Omega,\\mathcal{F},P(\\bullet|B))$.**"
   ]
  },
  {
   "cell_type": "markdown",
   "metadata": {},
   "source": [
    "<div class=\"alert alert-info\" role=\"alert\">\n",
    "For a fixed event $B\\neq\\emptyset$, the conditional probabilities $P(A|B)$ form a legitimate probability law that satisfies the three axioms!\n",
    "</div>"
   ]
  },
  {
   "cell_type": "markdown",
   "metadata": {},
   "source": [
    "**<font color=blue>Example 3:</font> A computer lab contains**\n",
    "\n",
    "* **two computers from manufacturer A, one of which is defective**\n",
    "* **three computers from manufacturer B, two of which are defective**\n",
    "    \n",
    "**A user sits down at a computer at random. Let the properties of the computer she sits down at be denoted by a two letter code, where the first letter is the manufacturer and the second letter is D for a defective computer or N for a non-defective computer. (We add a subscript to differentiate computers with the same two-letter code.)**"
   ]
  },
  {
   "cell_type": "markdown",
   "metadata": {},
   "source": [
    "* What is the sample space?\n",
    "\n",
    "$$\\Omega = \\{AD, AN, BD_1, BD_2, BN\\}$$"
   ]
  },
  {
   "cell_type": "markdown",
   "metadata": {},
   "source": [
    "Let\n",
    "* $E_A$ be the event that the selected computer is from manufacturer A\n",
    "* $E_B$ be the event that the selected computer is from manufacturer B\n",
    "* $E_D$ be the event that the selected computer is defective\n",
    "\n",
    "Let's find\n",
    "\n",
    "$$P(E_A) = \\frac{2}{5}$$\n",
    "\n",
    "$$P(E_B) = \\frac{3}{5}$$\n",
    "\n",
    "$$P(E_D) = \\frac{3}{5}$$"
   ]
  },
  {
   "cell_type": "markdown",
   "metadata": {},
   "source": [
    "Now, suppose that I select a computer and tell you its manufacturer. Does that influence the probability that the computer is defective?\n",
    "\n",
    "* For example, I tell you the computer is from manufacturer A. Then what is the probability that it is defective?\n",
    "\n",
    "$$P(E_D | E_A) = \\frac{P(E_D \\cap E_A)}{P(E_A)} = \\frac{1}{2}$$"
   ]
  },
  {
   "cell_type": "markdown",
   "metadata": {},
   "source": [
    "* Let's find:\n",
    "\n",
    "$$P(E_D | E_B) = \\frac{2}{3}$$\n",
    "\n",
    "$$P(E_A | E_D) = \\frac{1}{3}$$\n",
    "\n",
    "$$P(E_B | E_D) = \\frac{2}{3}$$"
   ]
  },
  {
   "cell_type": "markdown",
   "metadata": {},
   "source": [
    "<div class=\"alert alert-warning\">\n",
    "    <b>Relating Conditional and Unconditional Probabilities</b>\n",
    "    \n",
    "Which of the following statement is true?\n",
    "\n",
    "1. $P(A|B) \\geq P(A)$\n",
    "2. $P(A|B) \\leq P(A)$\n",
    "3. Not necessarily 1 or 2\n",
    "</div>"
   ]
  },
  {
   "cell_type": "markdown",
   "metadata": {},
   "source": [
    "## Conditional Probability for Discrete Sample Spaces with Equal Probabilities"
   ]
  },
  {
   "cell_type": "markdown",
   "metadata": {},
   "source": [
    "Consider again our simulation of the magician's coins.\n",
    "\n",
    "We directly estimated of those outcomes where the first flip was heads what proportion was the second flip heads. I.e., we did not use the definition of conditional probability, which involves a ratio of probabilities.\n",
    "\n",
    "How does that work out?"
   ]
  },
  {
   "cell_type": "markdown",
   "metadata": {},
   "source": [
    "Let $H_i$ be the event that the outcome of the $i$th flip was heads. We were trying to estimate $P(H_2|H_1)$.\n",
    "\n",
    "If we were to use the definition of conditional probability, then we would find this as\n",
    "\n",
    "$$P(H_2|H_1) = \\frac{P(H_2\\cap H_1)}{P(H_1)}$$"
   ]
  },
  {
   "cell_type": "markdown",
   "metadata": {},
   "source": [
    "If we didn't know how to solve these analytically, we could estimate them by their relative frequencies. Let:\n",
    "\n",
    "* $N$ be the number of simulations,\n",
    "* $N_1$ be the number of simulations in which the first flip is heads, and\n",
    "* $N_{12}$ be the number of simulations in which both flips are heads.\n",
    "\n",
    "Then\n",
    "\n",
    "\\begin{align}\n",
    "P(H_2|H_1) &= \\frac{N_{12}/N}{N_1/N} \\\\\n",
    "&= \\frac{N_{12}}{N_1}\n",
    "\\end{align}"
   ]
  },
  {
   "cell_type": "markdown",
   "metadata": {},
   "source": [
    "**<font color=blue>Example 4:</font> XOR of two independent binary values.**\n",
    "\n",
    "**Flip a fair coin with sides labeled '0' and '1' two times.**\n",
    "* **Let $E_i$ denote a '1' on the top face on flip $i$.**\n",
    "* **Let $F_i$ denote a '0' on the top face on flip $i$.**\n",
    "* **Let $G$ denote the event that the XOR of the values observed on the top faces on the two flips is '1'.**\n",
    "\n",
    "Compute:\n",
    "\n",
    "$$P(E_1) = \\frac{1}{2}, P(E_2) = \\frac{1}{2}, P(F) = \\frac{1}{2}$$\n",
    "\n",
    "$$P(E_1|E_2) = \\frac{1}{2}$$\n",
    "$$P(E_2|E_1) = \\frac{1}{2}$$\n",
    "$$P(G|E_1) = \\frac{1}{2}$$\n",
    "\n",
    "and\n",
    "\n",
    "$$P(G|E_1\\cap E_2) = 0$$"
   ]
  },
  {
   "cell_type": "markdown",
   "metadata": {},
   "source": [
    "## Using Conditional Probability to Decompose Events - Chain Rules"
   ]
  },
  {
   "cell_type": "markdown",
   "metadata": {},
   "source": [
    "Let's use the **virtual whiteboard** to depict how we can decompose conditional probability using a tree-based sequential representation."
   ]
  },
  {
   "cell_type": "markdown",
   "metadata": {},
   "source": [
    "In general, note that:\n",
    "\n",
    "$$P(A|B) = \\frac{P(A\\cap B)}{P(B)}$$\n",
    "$$\\Rightarrow P(A\\cap B) = P(A|B)P(B)$$\n",
    "\n",
    "and\n",
    "\n",
    "$$P(B|A) = \\frac{P(A\\cap B)}{P(B)}$$\n",
    "$$\\Rightarrow P(A\\cap B) = P(B|A)P(A)$$\n",
    "\n",
    "Equations (19) and (21) are **chain rules** for expanding the probability of the intersection of two events."
   ]
  },
  {
   "cell_type": "markdown",
   "metadata": {},
   "source": [
    "* The chain rule can be easily generalized to more than two events:\n",
    "\n",
    "\\begin{align}\n",
    "P(A\\cap B\\cap C) &= P(A)P(B|A)P(C|A\\cap B) \\\\\n",
    "&= P(A) \\cdot\\frac{P(A\\cap B)}{P(A)} \\cdot\\frac{P(A\\cap B\\cap C)}{P(A\\cap B)}\n",
    "\\end{align}\n",
    "\n",
    "Similarly,\n",
    "\n",
    "$$P(A\\cap B\\cap C) = P(A|B\\cap C)P(B|C)P(C)$$"
   ]
  },
  {
   "cell_type": "markdown",
   "metadata": {},
   "source": [
    "# Short Assignment 1 - due before Friday's class (@10:39 AM for everyone)\n",
    "\n",
    "Suppose that you have 2 coins, one fair and one 2-headed coin. Consider the experiment where you select a coin at random and flip it once. What is the probability that the coin is the 2-headed coin *given that* the observed result is *heads*?\n",
    "\n",
    "1. Write down, in equation form, the conditional probability that this problem is asking.\n",
    "2. Use the tree-based description, the definition of conditional probability and the chain rule to find out the analytical probability.\n",
    "3. Build a simulation to answer this question, and compare it with the analytical solution."
   ]
  },
  {
   "cell_type": "markdown",
   "metadata": {},
   "source": [
    "## Tomorrow is Recitation day\n",
    "\n",
    "You will solve problems in groups, and I will be answering questions and helping solving these problems."
   ]
  },
  {
   "cell_type": "code",
   "execution_count": null,
   "metadata": {},
   "outputs": [],
   "source": []
  }
 ],
 "metadata": {
  "kernelspec": {
   "display_name": "Python 3",
   "language": "python",
   "name": "python3"
  },
  "language_info": {
   "codemirror_mode": {
    "name": "ipython",
    "version": 3
   },
   "file_extension": ".py",
   "mimetype": "text/x-python",
   "name": "python",
   "nbconvert_exporter": "python",
   "pygments_lexer": "ipython3",
   "version": "3.7.7"
  },
  "latex_envs": {
   "LaTeX_envs_menu_present": true,
   "autoclose": false,
   "autocomplete": true,
   "bibliofile": "biblio.bib",
   "cite_by": "apalike",
   "current_citInitial": 1,
   "eqLabelWithNumbers": true,
   "eqNumInitial": 1,
   "hotkeys": {
    "equation": "Ctrl-E",
    "itemize": "Ctrl-I"
   },
   "labels_anchors": false,
   "latex_user_defs": false,
   "report_style_numbering": false,
   "user_envs_cfg": false
  },
  "varInspector": {
   "cols": {
    "lenName": 16,
    "lenType": 16,
    "lenVar": 40
   },
   "kernels_config": {
    "python": {
     "delete_cmd_postfix": "",
     "delete_cmd_prefix": "del ",
     "library": "var_list.py",
     "varRefreshCmd": "print(var_dic_list())"
    },
    "r": {
     "delete_cmd_postfix": ") ",
     "delete_cmd_prefix": "rm(",
     "library": "var_list.r",
     "varRefreshCmd": "cat(var_dic_list()) "
    }
   },
   "types_to_exclude": [
    "module",
    "function",
    "builtin_function_or_method",
    "instance",
    "_Feature"
   ],
   "window_display": false
  }
 },
 "nbformat": 4,
 "nbformat_minor": 4
}
